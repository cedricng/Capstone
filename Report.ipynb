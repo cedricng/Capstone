{
 "cells": [
  {
   "cell_type": "markdown",
   "metadata": {},
   "source": [
    "# Capstone Project Report"
   ]
  },
  {
   "cell_type": "markdown",
   "metadata": {},
   "source": [
    "## Introduction/Business Problem"
   ]
  },
  {
   "cell_type": "markdown",
   "metadata": {},
   "source": [
    "A company that is based in New York City wants to create a new office in Toronto. They want to put their office in the neighborhood having similar venues to the one they are based in.\n",
    "My job as a Data Scientist would be to use data analysis methods to find that neighborhood.\n"
   ]
  },
  {
   "cell_type": "markdown",
   "metadata": {},
   "source": [
    "## Data"
   ]
  },
  {
   "cell_type": "markdown",
   "metadata": {},
   "source": [
    "In order to retrieve Toronto's neighborhoods I will use the list of Canada's postal codes from Wikipedia and a CSV file containing the coordinates of Toronto's neighborhoods.Then I will use the Foursquare API in order to find the venues surrounding each neighborhood.Having the coordinates of the New York office, I will use the Foursquare API to find the venues around it. Then we will use the data to compare the venues of Toronto's Neighborhoods to the venues of NY City."
   ]
  }
 ],
 "metadata": {
  "kernelspec": {
   "display_name": "Python 3",
   "language": "python",
   "name": "python3"
  },
  "language_info": {
   "codemirror_mode": {
    "name": "ipython",
    "version": 3
   },
   "file_extension": ".py",
   "mimetype": "text/x-python",
   "name": "python",
   "nbconvert_exporter": "python",
   "pygments_lexer": "ipython3",
   "version": "3.7.9"
  }
 },
 "nbformat": 4,
 "nbformat_minor": 4
}
